{
 "cells": [
  {
   "cell_type": "code",
   "execution_count": 1,
   "id": "e1d80e21-2364-4d91-b9bf-b127fb831f5d",
   "metadata": {},
   "outputs": [],
   "source": [
    "from pyspark.sql import SparkSession\n",
    "from pyspark.sql import functions as F\n",
    "from pyspark import SparkConf\n",
    "import boto3\n",
    "import os"
   ]
  },
  {
   "cell_type": "code",
   "execution_count": 2,
   "id": "5b501018-107f-43db-96c1-a9de9bf6f728",
   "metadata": {},
   "outputs": [],
   "source": [
    "# Get env vars\n",
    "database_name = os.environ.get(\"DB_NAME\")\n",
    "table_name = os.environ.get(\"TB_NAME\")\n",
    "bucket_name = os.environ.get(\"BUCKET_NAME\")"
   ]
  },
  {
   "cell_type": "code",
   "execution_count": 3,
   "id": "6ff74108-e8ba-4fc3-b7dd-1b9b0d8f9a17",
   "metadata": {},
   "outputs": [
    {
     "name": "stderr",
     "output_type": "stream",
     "text": [
      "SLF4J: Class path contains multiple SLF4J bindings.\n",
      "SLF4J: Found binding in [jar:file:/home/glue_user/spark/jars/slf4j-reload4j-1.7.36.jar!/org/slf4j/impl/StaticLoggerBinder.class]\n",
      "SLF4J: Found binding in [jar:file:/home/glue_user/spark/jars/log4j-slf4j-impl-2.17.2.jar!/org/slf4j/impl/StaticLoggerBinder.class]\n",
      "SLF4J: Found binding in [jar:file:/home/glue_user/aws-glue-libs/jars/slf4j-reload4j-1.7.36.jar!/org/slf4j/impl/StaticLoggerBinder.class]\n",
      "SLF4J: Found binding in [jar:file:/home/glue_user/aws-glue-libs/jars/log4j-slf4j-impl-2.17.2.jar!/org/slf4j/impl/StaticLoggerBinder.class]\n",
      "SLF4J: See http://www.slf4j.org/codes.html#multiple_bindings for an explanation.\n",
      "SLF4J: Actual binding is of type [org.slf4j.impl.Reload4jLoggerFactory]\n",
      "25/02/03 17:39:48 INFO SparkContext: Running Spark version 3.3.0-amzn-1\n",
      "25/02/03 17:39:48 INFO ResourceUtils: ==============================================================\n",
      "25/02/03 17:39:48 INFO ResourceUtils: No custom resources configured for spark.driver.\n",
      "25/02/03 17:39:48 INFO ResourceUtils: ==============================================================\n",
      "25/02/03 17:39:48 INFO SparkContext: Submitted application: sample_spark\n",
      "25/02/03 17:39:48 INFO ResourceProfile: Default ResourceProfile created, executor resources: Map(cores -> name: cores, amount: 1, script: , vendor: , memory -> name: memory, amount: 1024, script: , vendor: , offHeap -> name: offHeap, amount: 0, script: , vendor: ), task resources: Map(cpus -> name: cpus, amount: 1.0)\n",
      "25/02/03 17:39:48 INFO ResourceProfile: Limiting resource is cpu\n",
      "25/02/03 17:39:48 INFO ResourceProfileManager: Added ResourceProfile id: 0\n",
      "25/02/03 17:39:48 INFO SecurityManager: Changing view acls to: glue_user\n",
      "25/02/03 17:39:48 INFO SecurityManager: Changing modify acls to: glue_user\n",
      "25/02/03 17:39:48 INFO SecurityManager: Changing view acls groups to: \n",
      "25/02/03 17:39:48 INFO SecurityManager: Changing modify acls groups to: \n",
      "25/02/03 17:39:48 INFO SecurityManager: SecurityManager: authentication enabled; ui acls disabled; users  with view permissions: Set(glue_user); groups with view permissions: Set(); users  with modify permissions: Set(glue_user); groups with modify permissions: Set()\n",
      "25/02/03 17:39:48 INFO Utils: Successfully started service 'sparkDriver' on port 35055.\n",
      "25/02/03 17:39:48 INFO SparkEnv: Registering MapOutputTracker\n",
      "25/02/03 17:39:48 INFO SparkEnv: Registering BlockManagerMaster\n",
      "25/02/03 17:39:48 INFO BlockManagerMasterEndpoint: Using org.apache.spark.storage.DefaultTopologyMapper for getting topology information\n",
      "25/02/03 17:39:48 INFO BlockManagerMasterEndpoint: BlockManagerMasterEndpoint up\n",
      "25/02/03 17:39:48 INFO SparkEnv: Registering BlockManagerMasterHeartbeat\n",
      "25/02/03 17:39:48 INFO DiskBlockManager: Created local directory at /tmp/blockmgr-5e404008-5b6c-4976-b826-0d986f8f3845\n",
      "25/02/03 17:39:48 INFO MemoryStore: MemoryStore started with capacity 6.2 GiB\n",
      "25/02/03 17:39:48 INFO SparkEnv: Registering OutputCommitCoordinator\n",
      "25/02/03 17:39:48 INFO SubResultCacheManager: Sub-result caches are disabled.\n",
      "25/02/03 17:39:49 INFO Utils: Successfully started service 'SparkUI' on port 4040.\n",
      "25/02/03 17:39:49 INFO Executor: Starting executor ID driver on host cf2656a120c6\n",
      "25/02/03 17:39:49 INFO Executor: Starting executor with user classpath (userClassPathFirst = false): 'file:/home/glue_user/spark/jars/*,file:/home/glue_user/aws-glue-libs/jars/*,file:/home/glue_user/workspace/jupyter_workspace/*'\n",
      "25/02/03 17:39:49 INFO Utils: Successfully started service 'org.apache.spark.network.netty.NettyBlockTransferService' on port 37295.\n",
      "25/02/03 17:39:49 INFO NettyBlockTransferService: Server created on cf2656a120c6:37295\n",
      "25/02/03 17:39:49 INFO BlockManager: Using org.apache.spark.storage.RandomBlockReplicationPolicy for block replication policy\n",
      "25/02/03 17:39:49 INFO BlockManagerMaster: Registering BlockManager BlockManagerId(driver, cf2656a120c6, 37295, None)\n",
      "25/02/03 17:39:49 INFO BlockManagerMasterEndpoint: Registering block manager cf2656a120c6:37295 with 6.2 GiB RAM, BlockManagerId(driver, cf2656a120c6, 37295, None)\n",
      "25/02/03 17:39:49 INFO BlockManagerMaster: Registered BlockManager BlockManagerId(driver, cf2656a120c6, 37295, None)\n",
      "25/02/03 17:39:49 INFO BlockManager: Initialized BlockManager: BlockManagerId(driver, cf2656a120c6, 37295, None)\n",
      "25/02/03 17:39:49 INFO SingleEventLogFileWriter: Logging events to file:/tmp/spark-events/local-1738604389196.inprogress\n"
     ]
    }
   ],
   "source": [
    "# Create SparkSession\n",
    "spark = SparkSession.builder \\\n",
    "    .appName('sample_spark') \\\n",
    "    .config(\"spark.sql.catalog.AwsGlueCatalog\", \"org.apache.iceberg.spark.SparkCatalog\") \\\n",
    "    .config(\"spark.sql.catalog.AwsGlueCatalog.catalog-impl\", \"org.apache.iceberg.aws.glue.GlueCatalog\") \\\n",
    "    .config(\"spark.sql.catalog.AwsGlueCatalog.warehouse\", \"s3a://bd-datawarehouse/\") \\\n",
    "    .config(\"spark.sql.catalog.AwsGlueCatalog.io-impl\", \"org.apache.iceberg.aws.s3.S3FileIO\") \\\n",
    "    .config(\"spark.sql.extensions\", \"org.apache.iceberg.spark.extensions.IcebergSparkSessionExtensions\") \\\n",
    "    .getOrCreate()\n",
    "\n",
    "# Set log level to WARN\n",
    "spark.sparkContext.setLogLevel(\"WARN\")\n",
    "\n",
    "# Enable schema evolution (Allows Iceberg to add new columns)\n",
    "spark.conf.set(\"spark.sql.iceberg.schema.evolution.enabled\", \"true\")\n"
   ]
  },
  {
   "cell_type": "code",
   "execution_count": 4,
   "id": "5a6b9ba8-2838-4f3d-bedf-2b2f4e4719af",
   "metadata": {},
   "outputs": [],
   "source": [
    "# Read a sample csv dataset\n",
    "df = spark.read.csv('data/tips.csv', inferSchema=True, header=True)"
   ]
  },
  {
   "cell_type": "code",
   "execution_count": 5,
   "id": "5c28fb3c-1f93-43bd-bfd1-fff724c31abc",
   "metadata": {},
   "outputs": [],
   "source": [
    "# Create 'created_at' column and init\n",
    "df = df.withColumn('created_at', F.current_timestamp())\n",
    "\n",
    "# Correct way to reorder (and avoid duplicates):\n",
    "df = df.select(\"created_at\", *[col for col in df.columns if col != \"created_at\"])\n"
   ]
  },
  {
   "cell_type": "code",
   "execution_count": 6,
   "id": "593e6285-909e-4a93-aeca-fa0cc3d2c602",
   "metadata": {},
   "outputs": [
    {
     "name": "stdout",
     "output_type": "stream",
     "text": [
      "Created path: s3://bd-datawarehouse/database_name/table_name/\n"
     ]
    }
   ],
   "source": [
    "# Define S3 bucket and path for database and table\n",
    "bucket_name = \"bd-datawarehouse\"\n",
    "s3_path = f\"{database_name}/{table_name}/\"  # Path inside the bucket\n",
    "\n",
    "# Initialize S3 client\n",
    "s3 = boto3.client(\"s3\")\n",
    "\n",
    "def s3_path_exists(bucket, path):\n",
    "    \"\"\"Check if an S3 path exists by listing objects with that prefix.\"\"\"\n",
    "    response = s3.list_objects_v2(Bucket=bucket, Prefix=path)\n",
    "    return \"Contents\" in response  # Returns True if objects exist\n",
    "\n",
    "def create_s3_path(bucket, path):\n",
    "    \"\"\"Create an empty directory in S3 by uploading an empty file.\"\"\"\n",
    "    if not s3_path_exists(bucket, path):\n",
    "        s3.put_object(Bucket=bucket, Key=f\"{path}placeholder.txt\", Body=b\"\")  # Upload an empty file\n",
    "        print(f\"Created path: s3://{bucket}/{path}\")\n",
    "    else:\n",
    "        print(f\"Path already exists: s3://{bucket}/{path}\")\n",
    "\n",
    "# Check and create the path if needed\n",
    "create_s3_path(bucket_name, s3_path)"
   ]
  },
  {
   "cell_type": "code",
   "execution_count": 7,
   "id": "39ba1031-908e-4a41-b5de-214cf0a1d6e9",
   "metadata": {},
   "outputs": [
    {
     "name": "stdout",
     "output_type": "stream",
     "text": [
      "Database database_name created successfully.\n"
     ]
    }
   ],
   "source": [
    "# Create database if not exists\n",
    "glue_client = boto3.client('glue', region_name=\"eu-west-1\")  # Change to your region\n",
    "\n",
    "# Check if the database already exists\n",
    "existing_databases = [db['Name'] for db in glue_client.get_databases()['DatabaseList']]\n",
    "if database_name not in existing_databases:\n",
    "    glue_client.create_database(DatabaseInput={'Name': database_name})\n",
    "    print(f\"Database {database_name} created successfully.\")\n",
    "else:\n",
    "    print(f\"Database {database_name} already exists.\")"
   ]
  },
  {
   "cell_type": "code",
   "execution_count": 8,
   "id": "fc5b7031-8bc3-4740-8b61-d3bcab03ce7c",
   "metadata": {},
   "outputs": [
    {
     "name": "stderr",
     "output_type": "stream",
     "text": [
      "SLF4J: Failed to load class \"org.slf4j.impl.StaticLoggerBinder\".\n",
      "SLF4J: Defaulting to no-operation (NOP) logger implementation\n",
      "SLF4J: See http://www.slf4j.org/codes.html#StaticLoggerBinder for further details.\n"
     ]
    },
    {
     "data": {
      "text/plain": [
       "DataFrame[]"
      ]
     },
     "execution_count": 8,
     "metadata": {},
     "output_type": "execute_result"
    }
   ],
   "source": [
    "# Create Iceberg table if not exist partionted by created_at\n",
    "spark.sql(f\"\"\"\n",
    "    CREATE TABLE IF NOT EXISTS AwsGlueCatalog.{database_name}.{table_name} (\n",
    "        created_at TIMESTAMP\n",
    "    )\n",
    "    USING iceberg\n",
    "    PARTITIONED BY (year(created_at))\n",
    "    LOCATION 's3a://bd-datawarehouse/{database_name}/{table_name}'\n",
    "    TBLPROPERTIES (\n",
    "        'table_type' = 'ICEBERG',\n",
    "        'format' = 'parquet',        \n",
    "        'vacuum_max_snapshot_age_seconds'='1296000',\n",
    "        'vacuum_min_snapshots_to_keep'='4',\n",
    "        'write_compression'='snappy',\n",
    "        'write.spark.accept-any-schema'='true'\n",
    "    )\n",
    "\"\"\")"
   ]
  },
  {
   "cell_type": "code",
   "execution_count": 9,
   "id": "540941c8-71ba-4192-aead-a61b35f274ce",
   "metadata": {},
   "outputs": [
    {
     "name": "stderr",
     "output_type": "stream",
     "text": [
      "                                                                                \r"
     ]
    }
   ],
   "source": [
    "# Write the dataframe to the table auto-adding new columns (schema on read) based on property mergeSchema\n",
    "df.write.format(\"iceberg\") \\\n",
    "    .mode(\"overwrite\") \\\n",
    "    .option(\"catalog\", \"AwsGlueCatalog\") \\\n",
    "    .option(\"mergeSchema\", \"true\") \\\n",
    "    .save(f\"AwsGlueCatalog.{database_name}.{table_name}\")\n"
   ]
  },
  {
   "cell_type": "code",
   "execution_count": 10,
   "id": "6b9ddc5b-55b0-4265-a357-15a68c43aaa0",
   "metadata": {},
   "outputs": [],
   "source": [
    "spark.stop()"
   ]
  },
  {
   "cell_type": "code",
   "execution_count": null,
   "id": "444a8762-1ae9-4fc9-8470-e40c79133bf3",
   "metadata": {},
   "outputs": [],
   "source": []
  },
  {
   "cell_type": "code",
   "execution_count": null,
   "id": "627fdf28-48aa-4186-a616-96beaef0266b",
   "metadata": {},
   "outputs": [],
   "source": []
  },
  {
   "cell_type": "code",
   "execution_count": null,
   "id": "219e878e-bc63-4899-bab7-bf1cfcb6fcff",
   "metadata": {},
   "outputs": [],
   "source": [
    "# from pyspark.sql import SparkSession\n",
    "# from pyspark.sql.functions import *  # Import Spark functions\n",
    "\n",
    "# # Initialize a SparkSession\n",
    "# spark = SparkSession.builder.appName(\"IcebergExample\").getOrCreate()\n",
    "\n",
    "# # Configure Iceberg (replace with your actual configuration)\n",
    "# spark.conf.set(\"spark.sql.extensions\", \"org.apache.iceberg.spark.extensions.IcebergSparkSessionExtensions\")\n",
    "# spark.conf.set(\"spark.sql.catalog.iceberg\", \"org.apache.iceberg.spark.IcebergCatalog\")\n",
    "# spark.conf.set(\"spark.sql.catalog.iceberg.type\", \"hadoop\") # or hive\n",
    "# spark.conf.set(\"spark.sql.catalog.iceberg.warehouse\", \"s3a://your-iceberg-warehouse\") # or hdfs://path\n",
    "\n",
    "# # Create a sample DataFrame\n",
    "# data = [(\"Alice\", 25), (\"Bob\", 30), (\"Charlie\", 28)]\n",
    "# df = spark.createDataFrame(data, [\"name\", \"age\"])\n",
    "\n",
    "# # Write to Iceberg (create a new table or overwrite if it exists)\n",
    "# df.write.format(\"iceberg\").mode(\"overwrite\").saveAsTable(\"iceberg.your_catalog.your_table\") # iceberg.your_catalog is required. your_table is the table name.\n",
    "\n",
    "# # Read from Iceberg\n",
    "# iceberg_df = spark.read.format(\"iceberg\").table(\"iceberg.your_catalog.your_table\") # Read from iceberg.your_catalog.your_table\n",
    "\n",
    "# iceberg_df.show()\n",
    "\n",
    "# # Example Iceberg queries\n",
    "# # You can use SQL queries to interact with Iceberg tables\n",
    "# spark.sql(\"SELECT * FROM iceberg.your_catalog.your_table WHERE age > 25\").show()\n",
    "\n",
    "# # Example of updating data in an Iceberg table\n",
    "# updatesDF = spark.createDataFrame([(\"Alice\", 26)], [\"name\", \"age\"]) # Create a dataframe with updates\n",
    "# updatesDF.write.format(\"iceberg\").mode(\"merge\").option(\"mergeSchema\", \"true\").saveAsTable(\"iceberg.your_catalog.your_table\") # Merge the updates\n",
    "\n",
    "# # Example of deleting data from an Iceberg table\n",
    "# df.filter(\"age > 27\").write.format(\"iceberg\").mode(\"delete\").saveAsTable(\"iceberg.your_catalog.your_table\")\n",
    "\n",
    "# # Show the updated table\n",
    "# iceberg_df = spark.read.format(\"iceberg\").table(\"iceberg.your_catalog.your_table\") # Read from iceberg.your_catalog.your_table\n",
    "# iceberg_df.show()\n",
    "\n",
    "# # Stop the SparkSession\n",
    "# spark.stop()"
   ]
  },
  {
   "cell_type": "code",
   "execution_count": null,
   "id": "8296f029-7327-4dbf-bc24-339e9eea37b4",
   "metadata": {},
   "outputs": [],
   "source": [
    "from pyspark.sql import SparkSession\n",
    "from pyspark.sql import functions as F\n",
    "from pyspark import SparkConf\n",
    "import boto3\n",
    "import os"
   ]
  }
 ],
 "metadata": {
  "kernelspec": {
   "display_name": "Python 3 (ipykernel)",
   "language": "python",
   "name": "python3"
  },
  "language_info": {
   "codemirror_mode": {
    "name": "ipython",
    "version": 3
   },
   "file_extension": ".py",
   "mimetype": "text/x-python",
   "name": "python",
   "nbconvert_exporter": "python",
   "pygments_lexer": "ipython3",
   "version": "3.10.2"
  }
 },
 "nbformat": 4,
 "nbformat_minor": 5
}
