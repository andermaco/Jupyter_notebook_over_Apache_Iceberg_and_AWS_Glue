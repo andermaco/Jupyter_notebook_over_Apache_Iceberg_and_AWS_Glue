{
 "cells": [
  {
   "cell_type": "code",
   "execution_count": null,
   "id": "e1d80e21-2364-4d91-b9bf-b127fb831f5d",
   "metadata": {},
   "outputs": [],
   "source": [
    "from pyspark.sql import SparkSession\n",
    "from pyspark.sql import functions as F\n",
    "from pyspark.sql.functions import year, month, to_date, date_format, lit\n",
    "from pyspark import SparkConf\n",
    "from botocore.exceptions import ClientError\n",
    "import boto3\n",
    "import botocore\n",
    "import os\n",
    "import awswrangler as wr"
   ]
  },
  {
   "cell_type": "code",
   "execution_count": null,
   "id": "5b501018-107f-43db-96c1-a9de9bf6f728",
   "metadata": {},
   "outputs": [],
   "source": [
    "# Get env vars\n",
    "database_name = os.environ.get(\"DB_NAME\")\n",
    "table_name = os.environ.get(\"TB_NAME\")\n",
    "bucket_name = os.environ.get(\"BUCKET_NAME\")\n",
    "work_group = os.environ.get(\"WORKGROUP\")\n",
    "region = os.environ.get(\"AWS_REGION\")"
   ]
  },
  {
   "cell_type": "code",
   "execution_count": null,
   "id": "6ff74108-e8ba-4fc3-b7dd-1b9b0d8f9a17",
   "metadata": {
    "scrolled": true
   },
   "outputs": [],
   "source": [
    "# Create SparkSession\n",
    "spark = SparkSession.builder \\\n",
    "    .appName('sample_spark_app') \\\n",
    "    .config(\"spark.sql.catalog.AwsGlueCatalog\", \"org.apache.iceberg.spark.SparkCatalog\") \\\n",
    "    .config(\"spark.sql.catalog.AwsGlueCatalog.catalog-impl\", \"org.apache.iceberg.aws.glue.GlueCatalog\") \\\n",
    "    .config(\"spark.sql.catalog.AwsGlueCatalog.warehouse\", \"s3a://bd-datawarehouse/\") \\\n",
    "    .config(\"spark.sql.catalog.AwsGlueCatalog.io-impl\", \"org.apache.iceberg.aws.s3.S3FileIO\") \\\n",
    "    .getOrCreate()\n",
    "\n",
    "# Set log level to WARN\n",
    "spark.sparkContext.setLogLevel(\"WARN\")\n",
    "\n",
    "# Enable schema evolution (Allows Iceberg to add new columns)\n",
    "spark.conf.set(\"spark.sql.iceberg.schema.evolution.enabled\", \"true\")\n"
   ]
  },
  {
   "cell_type": "code",
   "execution_count": null,
   "id": "5a6b9ba8-2838-4f3d-bedf-2b2f4e4719af",
   "metadata": {},
   "outputs": [],
   "source": [
    "# Read a sample csv dataset\n",
    "df = spark.read.csv('data/tips.csv', inferSchema=True, header=True)"
   ]
  },
  {
   "cell_type": "code",
   "execution_count": null,
   "id": "5c28fb3c-1f93-43bd-bfd1-fff724c31abc",
   "metadata": {},
   "outputs": [],
   "source": [
    "# Its just a good practice to add a 'created_at' column storing data timestamp. It also will be used in this sample as Iceberg partion in the form: month('created_at')\n",
    "# Create 'created_at' column and init\n",
    "df = df.withColumn('created_at', F.current_timestamp())\n",
    "\n",
    "# Correct way to reorder (and avoid duplicates):\n",
    "df = df.select(\"created_at\", *[col for col in df.columns if col != \"created_at\"])\n"
   ]
  },
  {
   "cell_type": "code",
   "execution_count": null,
   "id": "6bcf7d0f",
   "metadata": {},
   "outputs": [],
   "source": [
    "def create_s3_bucket_if_not_exists(bucket_name, region_name=None):\n",
    "    try:\n",
    "        s3 = boto3.client('s3', region_name=region_name)\n",
    "        # Check if the bucket exists\n",
    "        try:\n",
    "            s3.head_bucket(Bucket=bucket_name)\n",
    "            print(f\"Bucket '{bucket_name}' already exists.\")\n",
    "            return True\n",
    "        except ClientError as e:\n",
    "        # except boto3.exceptions.ClientError as e:\n",
    "            error_code = e.response['Error']['Code'] \n",
    "            if error_code == '404':\n",
    "                print(f\"Bucket '{bucket_name}' does not exist. Creating...\")\n",
    "                if region_name:\n",
    "                    try:\n",
    "                        s3.create_bucket(\n",
    "                            Bucket=bucket_name,\n",
    "                            CreateBucketConfiguration={'LocationConstraint': region_name}\n",
    "                        )\n",
    "                    except Exception as e:\n",
    "                        print(f\"Error creating bucket in region {region_name}: {e}\")\n",
    "                        return False\n",
    "                else:\n",
    "                    try:\n",
    "                        s3.create_bucket(Bucket=bucket_name)\n",
    "                    except Exception as e:\n",
    "                        print(f\"Error creating bucket: {e}\")\n",
    "                        return False\n",
    "                print(f\"Bucket '{bucket_name}' created successfully.\")\n",
    "                return True\n",
    "\n",
    "            else:\n",
    "                print(f\"An unexpected error occurred checking or creating bucket: {e}\")\n",
    "                return False\n",
    "    except Exception as e:\n",
    "        print(f\"A general error occurred: {e}\")\n",
    "        return False\n",
    "\n",
    "\n",
    "create_s3_bucket_if_not_exists(bucket_name, region)"
   ]
  },
  {
   "cell_type": "code",
   "execution_count": null,
   "id": "573b7135-8e78-434d-b9f6-9a078cf1e4fc",
   "metadata": {},
   "outputs": [],
   "source": [
    "# Add new column regarding vat taxes of 21% \n",
    "df = df.withColumn('vat', F.col('total_bill') * 0.21)"
   ]
  },
  {
   "cell_type": "code",
   "execution_count": null,
   "id": "593e6285-909e-4a93-aeca-fa0cc3d2c602",
   "metadata": {},
   "outputs": [],
   "source": [
    "# Define S3 bucket and path for database and table\n",
    "s3_path = f\"{database_name}/{table_name}/\"  # Path inside the bucket\n",
    "\n",
    "# Initialize S3 client\n",
    "s3 = boto3.client(\"s3\")\n",
    "\n",
    "def s3_path_exists(bucket, path):\n",
    "    \"\"\"Check if an S3 path exists by listing objects with that prefix.\"\"\"\n",
    "    response = s3.list_objects_v2(Bucket=bucket, Prefix=path)\n",
    "    return \"Contents\" in response  # Returns True if objects exist\n",
    "\n",
    "def create_s3_path(bucket, path):\n",
    "    \"\"\"Create an empty directory in S3 by uploading an empty file.\"\"\"\n",
    "    if not s3_path_exists(bucket, path):\n",
    "        s3.put_object(Bucket=bucket, Key=f\"{path}placeholder.txt\", Body=b\"\")  # Upload an empty file\n",
    "        print(f\"Created path: s3://{bucket}/{path}\")\n",
    "    else:\n",
    "        print(f\"Path already exists: s3://{bucket}/{path}\")\n",
    "\n",
    "# Check and create the path if needed\n",
    "create_s3_path(bucket_name, s3_path)"
   ]
  },
  {
   "cell_type": "code",
   "execution_count": null,
   "id": "39ba1031-908e-4a41-b5de-214cf0a1d6e9",
   "metadata": {},
   "outputs": [],
   "source": [
    "# Create database if not exists\n",
    "glue_client = boto3.client('glue', region_name=\"eu-west-1\")  # Change to your region\n",
    "\n",
    "database_location = f\"s3://{bucket_name}/{database_name}\"\n",
    "\n",
    "# Check if the database already exists\n",
    "existing_databases = [db['Name'] for db in glue_client.get_databases()['DatabaseList']]\n",
    "if database_name not in existing_databases:\n",
    "    glue_client.create_database(DatabaseInput={'Name': database_name, 'LocationUri': database_location})\n",
    "    print(f\"Database {database_name} created successfully.\")\n",
    "else:\n",
    "    print(f\"Database {database_name} already exists.\")"
   ]
  },
  {
   "cell_type": "code",
   "execution_count": null,
   "id": "fc5b7031-8bc3-4740-8b61-d3bcab03ce7c",
   "metadata": {},
   "outputs": [],
   "source": [
    "# We have to options in order to partition by month\n",
    "# Create a non hidden field in order to be used as partition field\n",
    "# df = df.withColumn(\"yearmonth\", date_format(F.col(\"created_at\"), \"yyyyMM\").cast(\"int\")) # or string\n",
    "# or just use a hidden partition with transform method, e.g.: \"PARTITIONED BY (month(created_at))\", check https://medium.com/@life-is-short-so-enjoy-it/aws-athena-iceberg-experiment-dropping-partitions-month-b5074e56c911 in order to understand what partitions month value means.\n",
    "# Iceberg table properties could be readed using: \"describe formatted <database_name>.<table_name>;\"\n",
    "\n",
    "\n",
    "# Create Iceberg table if not exist partionted by created_at\n",
    "spark.sql(f\"\"\"    \n",
    "    CREATE TABLE IF NOT EXISTS AwsGlueCatalog.{database_name}.{table_name} (\n",
    "        created_at timestamp\n",
    "    )\n",
    "    USING iceberg\n",
    "    PARTITIONED BY (month(created_at))\n",
    "    LOCATION 's3://{bucket_name}/{database_name}/{table_name}'\n",
    "    TBLPROPERTIES (\n",
    "        'format'='parquet',        \n",
    "        'write_compression'='ZSTD',\n",
    "        'write.spark.accept-any-schema'='true',\n",
    "        'history.expire.min-snapshots-to-keep'='6',\n",
    "        'history.expire.max-snapshot-age-ms'='432000000'        \n",
    "    )\n",
    "\"\"\")\n",
    "\n",
    "\n",
    "# 'optimize_rewrite_delete_file_threshold'='1',\n",
    "# 'optimize_rewrite_data_file_threshold'='3',\n",
    "# 'write.spark.accept-any-schema'='true' \n",
    "# 'vacuum_max_snapshot_age_seconds'='10800',\n",
    "# 'vacuum_min_snapshots_to_keep'='4',"
   ]
  },
  {
   "cell_type": "code",
   "execution_count": null,
   "id": "ccfab9d6-9b96-4df9-8cdc-d1a8e3b43e0d",
   "metadata": {},
   "outputs": [],
   "source": [
    "# Write to table using awswrangler.athena.to_iceberg -> https://aws-sdk-pandas.readthedocs.io/en/3.2.1/stubs/awswrangler.athena.to_iceberg.html\n",
    "wr.athena.to_iceberg(\n",
    "        df=df.toPandas(),\n",
    "        database=database_name,\n",
    "        table=table_name,   \n",
    "        temp_path=f\"s3://{bucket_name}/{database_name}/tmp_table_{table_name}/\",\n",
    "        workgroup=work_group,\n",
    "        keep_files=False,\n",
    "        schema_evolution=True,\n",
    "        fill_missing_columns_in_df=True\n",
    "    )"
   ]
  },
  {
   "cell_type": "code",
   "execution_count": null,
   "id": "4f2ab10c-f842-4868-9248-7ff1eb4047fd",
   "metadata": {},
   "outputs": [],
   "source": [
    "df = spark.sql(f\"DESCRIBE TABLE EXTENDED AwsGlueCatalog.{database_name}.{table_name}\")\n",
    "df.show(100, False)"
   ]
  },
  {
   "cell_type": "code",
   "execution_count": null,
   "id": "6b9ddc5b-55b0-4265-a357-15a68c43aaa0",
   "metadata": {},
   "outputs": [],
   "source": [
    "spark.stop()"
   ]
  },
  {
   "cell_type": "code",
   "execution_count": null,
   "id": "d64283e3-8d33-4a3b-a280-4dd5915bca13",
   "metadata": {},
   "outputs": [],
   "source": []
  }
 ],
 "metadata": {
  "kernelspec": {
   "display_name": "Python 3 (ipykernel)",
   "language": "python",
   "name": "python3"
  },
  "language_info": {
   "codemirror_mode": {
    "name": "ipython",
    "version": 3
   },
   "file_extension": ".py",
   "mimetype": "text/x-python",
   "name": "python",
   "nbconvert_exporter": "python",
   "pygments_lexer": "ipython3",
   "version": "3.10.2"
  }
 },
 "nbformat": 4,
 "nbformat_minor": 5
}
